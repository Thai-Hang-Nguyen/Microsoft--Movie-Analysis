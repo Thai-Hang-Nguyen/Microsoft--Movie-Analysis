{
 "cells": [
  {
   "cell_type": "markdown",
   "id": "4a210f97",
   "metadata": {},
   "source": [
    "# Instructions for navigating the repository"
   ]
  },
  {
   "cell_type": "markdown",
   "id": "0bd07ec0",
   "metadata": {},
   "source": [
    "## how to fork\n",
    "\n",
    "### Step 1:\n",
    "\n",
    "\n",
    "\n",
    "\n",
    "## How to clone\n",
    "\n",
    "### Step 1:\n",
    "\n",
    "**mkdir \"Project1_Microsoft_Anaylsis\"**\n",
    "Creating a folder to a specific location in your computer.\n",
    "\n",
    "### Step2:\n",
    "\n",
    "**cd \"\"Project1_Microsoft_Anaylsis\"**\n",
    "This will direct go inside of your folder\n",
    "\n",
    "### Step 3:\n",
    "\n",
    "**git remote -v**\n",
    "This is to see what inside of your folder currently have and if is also already cloned repo. if there is an existing remote origin (when you trying to push and receive an error: failied to push some refs to \"http...\", means its have an existing remote origin) use **git remote origin**\n",
    "\n",
    "### Step 4:\n",
    "\n"
   ]
  }
 ],
 "metadata": {
  "kernelspec": {
   "display_name": "Python (learn-env)",
   "language": "python",
   "name": "learn-env"
  },
  "language_info": {
   "codemirror_mode": {
    "name": "ipython",
    "version": 3
   },
   "file_extension": ".py",
   "mimetype": "text/x-python",
   "name": "python",
   "nbconvert_exporter": "python",
   "pygments_lexer": "ipython3",
   "version": "3.10.9"
  }
 },
 "nbformat": 4,
 "nbformat_minor": 5
}
